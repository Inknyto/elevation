{
 "cells": [
  {
   "cell_type": "markdown",
   "id": "805e4574-7098-414b-b29b-025073be6796",
   "metadata": {},
   "source": [
    "Create the elevation_users index"
   ]
  },
  {
   "cell_type": "code",
   "execution_count": null,
   "id": "63ec6cee-b42f-46dd-b499-d17f60239325",
   "metadata": {},
   "outputs": [],
   "source": [
    "# Elasticsearch server details\n",
    "\n",
    "import requests\n",
    "from my_credentials import *\n",
    "base_url = \"http://localhost:9200\"\n",
    "index_name = \"elevation_users\""
   ]
  },
  {
   "cell_type": "code",
   "execution_count": null,
   "id": "1e21742d-ca19-4d44-a2f7-2d806a1af591",
   "metadata": {},
   "outputs": [],
   "source": [
    "\n",
    "\n",
    "# Index settings and mapping\n",
    "index_settings = {\n",
    "    \"settings\": {\n",
    "        \"number_of_shards\": 1,\n",
    "        \"number_of_replicas\": 0\n",
    "    },\n",
    "    \"mappings\": {\n",
    "        \"properties\": {\n",
    "            'username': {\"type\": \"keyword\"},\n",
    "            'password': {\"type\": \"keyword\"},\n",
    "            'saved': {\"type\": \"object\"},\n",
    "        }\n",
    "    }\n",
    "}\n",
    "\n",
    "# Create the index with authentication\n",
    "response = requests.put(\n",
    "    f\"{base_url}/{index_name}\",\n",
    "    json=index_settings,\n",
    "    auth=(username, password)  # Include authentication parameters\n",
    ")\n",
    "\n",
    "# Check the response\n",
    "if response.status_code == 200:\n",
    "    print(f\"Index '{index_name}' created successfully.\")\n",
    "else:\n",
    "    print(f\"Error creating index: {response.content}\")\n"
   ]
  },
  {
   "cell_type": "code",
   "execution_count": null,
   "id": "7544c6b3-6c77-4a0a-9745-1216d6edd1dc",
   "metadata": {},
   "outputs": [],
   "source": [
    "import json\n",
    "elasticsearch_url = \"http://localhost:9200\"\n",
    "with open('saved_jobs.json') as f:\n",
    "    cleaned = json.load(f)\n",
    "for c in cleaned:\n",
    "        response = requests.post(\n",
    "            f\"{elasticsearch_url}/{index_name}/_doc\",\n",
    "            json=c,\n",
    "            auth=(username, password)  # Include authentication parameters\n",
    "\n",
    "        )\n",
    "\n",
    "        if response.status_code == 201:\n",
    "            print(f\"Job uploaded successfully: {response.json()}\")\n",
    "        else:\n",
    "            print(f\"Error uploading job: {response.json()}\")"
   ]
  },
  {
   "cell_type": "code",
   "execution_count": null,
   "id": "a89f2331-6971-4ca0-b6f1-a689037d1b17",
   "metadata": {},
   "outputs": [],
   "source": [
    "response = requests.delete(\"http://localhost:9200/saved_jobs\", auth = (username, password))\n",
    "response.text"
   ]
  }
 ],
 "metadata": {
  "kernelspec": {
   "display_name": "python-venv",
   "language": "python",
   "name": "python-venv"
  },
  "language_info": {
   "codemirror_mode": {
    "name": "ipython",
    "version": 3
   },
   "file_extension": ".py",
   "mimetype": "text/x-python",
   "name": "python",
   "nbconvert_exporter": "python",
   "pygments_lexer": "ipython3",
   "version": "3.11.7"
  }
 },
 "nbformat": 4,
 "nbformat_minor": 5
}
