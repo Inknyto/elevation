{
 "cells": [
  {
   "cell_type": "code",
   "execution_count": null,
   "id": "929c6ec9-1a51-48a4-b8ea-44ae430b0ecd",
   "metadata": {},
   "outputs": [],
   "source": [
    "wordslist = [\n",
    "'bases de données senegal',\n",
    "'infographie senegal',\n",
    "'python senegal',\n",
    "'intelligence artificielle senegal',\n",
    "'ingégnieur informatique senegal',\n",
    "\"data sql senegal\",\n",
    "\"developpeur web senegal\",\n",
    "'Community manager senegal',\n",
    "'développeur senegal',\n",
    "'développeur mobile sénégal',\n",
    "'data analyst senegal',\n",
    "'informatique senegal',\n",
    "'designer sénégal',\n",
    "'webmaster senegal']"
   ]
  },
  {
   "cell_type": "code",
   "execution_count": 1,
   "id": "a607b9b1-19e1-4b38-a137-d3e203e835b7",
   "metadata": {},
   "outputs": [
    {
     "ename": "ModuleNotFoundError",
     "evalue": "No module named 'serpapi'",
     "output_type": "error",
     "traceback": [
      "\u001b[0;31m---------------------------------------------------------------------------\u001b[0m",
      "\u001b[0;31mModuleNotFoundError\u001b[0m                       Traceback (most recent call last)",
      "Cell \u001b[0;32mIn[1], line 1\u001b[0m\n\u001b[0;32m----> 1\u001b[0m \u001b[38;5;28;01mfrom\u001b[39;00m \u001b[38;5;21;01mserpapi\u001b[39;00m \u001b[38;5;28;01mimport\u001b[39;00m GoogleSearch\n\u001b[1;32m      2\u001b[0m \u001b[38;5;28;01mimport\u001b[39;00m \u001b[38;5;21;01mpandas\u001b[39;00m \u001b[38;5;28;01mas\u001b[39;00m \u001b[38;5;21;01mpd\u001b[39;00m\n\u001b[1;32m      3\u001b[0m \u001b[38;5;28;01mfrom\u001b[39;00m \u001b[38;5;21;01mapi_key\u001b[39;00m \u001b[38;5;28;01mimport\u001b[39;00m api_key\n",
      "\u001b[0;31mModuleNotFoundError\u001b[0m: No module named 'serpapi'"
     ]
    }
   ],
   "source": [
    "from serpapi import GoogleSearch\n",
    "import pandas as pd\n",
    "from api_key import api_key\n",
    "params = {\n",
    "  \"engine\": \"google_jobs\",\n",
    "  \"q\": \"\",\n",
    "  \"hl\": \"fr\",\n",
    "  \"api_key\": api_key,\n",
    "    \n",
    "}\n",
    "new_jobs = []\n",
    "for word in wordslist:\n",
    "    params[\"q\"] = word\n",
    "    search = GoogleSearch(params)\n",
    "    results = search.get_dict()\n",
    "    new_jobs += results[\"jobs_results\"]\n",
    "newjobs = pd.DataFrame(new_jobs)\n",
    "newjobs"
   ]
  }
 ],
 "metadata": {
  "kernelspec": {
   "display_name": "python-venv",
   "language": "python",
   "name": "python-venv"
  },
  "language_info": {
   "codemirror_mode": {
    "name": "ipython",
    "version": 3
   },
   "file_extension": ".py",
   "mimetype": "text/x-python",
   "name": "python",
   "nbconvert_exporter": "python",
   "pygments_lexer": "ipython3",
   "version": "3.11.7"
  }
 },
 "nbformat": 4,
 "nbformat_minor": 5
}
